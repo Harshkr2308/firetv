{
 "cells": [
  {
   "cell_type": "code",
   "execution_count": 1,
   "id": "80a32f25",
   "metadata": {},
   "outputs": [
    {
     "name": "stdout",
     "output_type": "stream",
     "text": [
      "Fury 228150 139.575085 3946\n",
      "Fort McCoy 281230 0.384496 2\n",
      "U-571 3536 18.096884 340\n",
      "Platoon 792 49.802914 1205\n",
      "The Brothers Grimm 4442 40.138009 818\n",
      "The Medallion 10610 14.653718 281\n",
      "Teenage Mutant Ninja Turtles III 1499 10.207065 184\n",
      "Dragonball Evolution 14164 21.677732 462\n"
     ]
    }
   ],
   "source": [
    "import pickle\n",
    "import pandas as pd\n",
    "import requests\n",
    "vis = []\n",
    "sim = pd.compat.pickle_compat.load(open('sim','rb'))\n",
    "def recommend(m,user_history) :\n",
    "     ind = movies_df[movies_df['title'] == m].index[0]\n",
    "     recom_list = sorted(list(enumerate(sim[ind])),reverse = True,key = lambda x : x[1])\n",
    "     count = 0\n",
    "     upd_recom_list = []\n",
    "     for i in recom_list:\n",
    "            \n",
    "          if(count >= 4) :\n",
    "               break\n",
    "          if i not in vis :\n",
    "               vis.append(i)\n",
    "               upd_recom_list.append(i)\n",
    "               count=count+1\n",
    "        \n",
    "     recommended_movies = []\n",
    "     recommended_ids = []\n",
    "     recommended_popularity = []\n",
    "     recommended_votecount = []\n",
    "     for i in upd_recom_list :\n",
    "            movie_id = movies_df.iloc[i[0]].id\n",
    "            pop = movies_df.iloc[i[0]].popularity\n",
    "            vote_c = movies_df.iloc[i[0]].vote_count\n",
    "            recommended_ids.append(movie_id)\n",
    "            recommended_movies.append(movies_df.iloc[i[0]].title)\n",
    "            recommended_popularity.append(pop)\n",
    "            recommended_votecount.append(vote_c)\n",
    "     return recommended_movies,recommended_ids,recommended_popularity,recommended_votecount\n",
    "\n",
    "movies = pd.compat.pickle_compat.load(open('movies_list','rb'))\n",
    "movies_df = movies\n",
    "movies = movies['title'].values\n",
    "user_history = [\"Fury\",\"The Brothers Grimm\"]\n",
    "# st.title('Currated Playlist')\n",
    "# if st.button('Show Playlist'):\n",
    "for selected_movie_name in user_history :\n",
    "     names,id,popularity,vote_count = recommend(selected_movie_name,user_history)\n",
    "     for ind in range(0,len(names)):\n",
    "        \n",
    "        print(names[ind],id[ind],popularity[ind],vote_count[ind])"
   ]
  },
  {
   "cell_type": "code",
   "execution_count": null,
   "id": "778a5cb4",
   "metadata": {},
   "outputs": [],
   "source": []
  }
 ],
 "metadata": {
  "kernelspec": {
   "display_name": "Python 3 (ipykernel)",
   "language": "python",
   "name": "python3"
  },
  "language_info": {
   "codemirror_mode": {
    "name": "ipython",
    "version": 3
   },
   "file_extension": ".py",
   "mimetype": "text/x-python",
   "name": "python",
   "nbconvert_exporter": "python",
   "pygments_lexer": "ipython3",
   "version": "3.11.5"
  }
 },
 "nbformat": 4,
 "nbformat_minor": 5
}
